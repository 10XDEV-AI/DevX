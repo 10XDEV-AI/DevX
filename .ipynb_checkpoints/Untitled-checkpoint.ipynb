{
 "cells": [
  {
   "cell_type": "markdown",
   "id": "589b9fea",
   "metadata": {},
   "source": [
    "## Regex Compare"
   ]
  },
  {
   "cell_type": "code",
   "execution_count": 20,
   "id": "29912ce0",
   "metadata": {},
   "outputs": [
    {
     "ename": "AssertionError",
     "evalue": "",
     "output_type": "error",
     "traceback": [
      "\u001b[0;31m---------------------------------------------------------------------------\u001b[0m",
      "\u001b[0;31mAssertionError\u001b[0m                            Traceback (most recent call last)",
      "Cell \u001b[0;32mIn[20], line 26\u001b[0m\n\u001b[1;32m     23\u001b[0m     \u001b[38;5;28mprint\u001b[39m(\u001b[38;5;124m\"\u001b[39m\u001b[38;5;124mAll tests passed!\u001b[39m\u001b[38;5;124m\"\u001b[39m)\n\u001b[1;32m     25\u001b[0m \u001b[38;5;66;03m# Run the test function\u001b[39;00m\n\u001b[0;32m---> 26\u001b[0m \u001b[43mtest_clean_text\u001b[49m\u001b[43m(\u001b[49m\u001b[43m)\u001b[49m\n",
      "Cell \u001b[0;32mIn[20], line 21\u001b[0m, in \u001b[0;36mtest_clean_text\u001b[0;34m()\u001b[0m\n\u001b[1;32m     19\u001b[0m \u001b[38;5;66;03m# Test case 3: Code keyword to remove backticks case\u001b[39;00m\n\u001b[1;32m     20\u001b[0m response_text_3 \u001b[38;5;241m=\u001b[39m \u001b[38;5;124m\"\u001b[39m\u001b[38;5;124mCode```This is some code```\u001b[39m\u001b[38;5;124m\"\u001b[39m\n\u001b[0;32m---> 21\u001b[0m \u001b[38;5;28;01massert\u001b[39;00m clean_text(response_text_3) \u001b[38;5;241m==\u001b[39m \u001b[38;5;124m\"\u001b[39m\u001b[38;5;124m``` This is some code ```\u001b[39m\u001b[38;5;124m\"\u001b[39m\n\u001b[1;32m     23\u001b[0m \u001b[38;5;28mprint\u001b[39m(\u001b[38;5;124m\"\u001b[39m\u001b[38;5;124mAll tests passed!\u001b[39m\u001b[38;5;124m\"\u001b[39m)\n",
      "\u001b[0;31mAssertionError\u001b[0m: "
     ]
    }
   ],
   "source": [
    "import re\n",
    "\n",
    "def clean_text(response_text):\n",
    "    # Use a pattern to match the first occurrence of triple backticks,\n",
    "    # capture everything (including newlines), and match the last occurrence of triple backticks\n",
    "    cleaned_text = re.sub(r'^```(.*?)```$', r'``` \\1 ```', response_text, flags=re.DOTALL)\n",
    "    return cleaned_text\n",
    "\n",
    "# Test function\n",
    "def test_clean_text():\n",
    "    # Test case 1: Normal case\n",
    "    response_text_1 = \"```This is some code```\"\n",
    "    assert clean_text(response_text_1) == \"This is some code\"\n",
    "\n",
    "    # Test case 2: Internal backticks case\n",
    "    response_text_2 = \"```This ```is``` some code```\"\n",
    "    assert clean_text(response_text_2) == \"This ```is``` some code ```\"\n",
    "\n",
    "    # Test case 3: Code keyword to remove backticks case\n",
    "    response_text_3 = \"Code```This is some code```\"\n",
    "    assert clean_text(response_text_3) == \"``` This is some code ```\"\n",
    "\n",
    "    print(\"All tests passed!\")\n",
    "\n",
    "# Run the test function\n",
    "test_clean_text()\n"
   ]
  }
 ],
 "metadata": {
  "kernelspec": {
   "display_name": "Python 3 (ipykernel)",
   "language": "python",
   "name": "python3"
  },
  "language_info": {
   "codemirror_mode": {
    "name": "ipython",
    "version": 3
   },
   "file_extension": ".py",
   "mimetype": "text/x-python",
   "name": "python",
   "nbconvert_exporter": "python",
   "pygments_lexer": "ipython3",
   "version": "3.10.10"
  }
 },
 "nbformat": 4,
 "nbformat_minor": 5
}
